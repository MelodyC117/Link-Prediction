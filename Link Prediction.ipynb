{
 "cells": [
  {
   "cell_type": "markdown",
   "metadata": {},
   "source": [
    "# Link Prediction Exercise"
   ]
  },
  {
   "cell_type": "code",
   "execution_count": 1,
   "metadata": {
    "collapsed": true
   },
   "outputs": [],
   "source": [
    "import networkx as nx\n",
    "import pandas as pd\n",
    "import numpy as np\n",
    "import pickle"
   ]
  },
  {
   "cell_type": "markdown",
   "metadata": {},
   "source": [
    "---\n",
    "\n",
    "# Company Emails\n",
    "\n",
    "The file 'email_prediction.txt' contains a company's email network where each node corresponds to a person at the company, and each edge indicates that at least one email has been sent between two people.\n",
    "\n",
    "The network also contains the node attributes `Department` and `ManagementSalary`.\n",
    "\n",
    "`Department` indicates the department in the company which the person belongs to, and `ManagementSalary` indicates whether that person is receiving a management position salary."
   ]
  },
  {
   "cell_type": "code",
   "execution_count": 14,
   "metadata": {},
   "outputs": [
    {
     "name": "stdout",
     "output_type": "stream",
     "text": [
      "Name: \n",
      "Type: Graph\n",
      "Number of nodes: 1005\n",
      "Number of edges: 16706\n",
      "Average degree:  33.2458\n"
     ]
    }
   ],
   "source": [
    "# Build network G\n",
    "G = nx.read_gpickle('email_prediction.txt')\n",
    "\n",
    "print(nx.info(G))"
   ]
  },
  {
   "cell_type": "markdown",
   "metadata": {},
   "source": [
    "### Salary Prediction\n",
    "\n",
    "Using network `G`, identify the people in the network with missing values for the node attribute `ManagementSalary` and predict whether or not these individuals are receiving a management position salary.\n"
   ]
  },
  {
   "cell_type": "code",
   "execution_count": 104,
   "metadata": {},
   "outputs": [
    {
     "data": {
      "text/plain": [
       "1       0.170627\n",
       "2       0.428395\n",
       "5       0.638452\n",
       "8       0.199105\n",
       "14      0.170627\n",
       "18      0.170627\n",
       "27      0.170627\n",
       "30      0.247082\n",
       "31      0.247082\n",
       "34      0.122151\n",
       "37      0.199105\n",
       "40      0.170627\n",
       "45      0.157270\n",
       "54      0.247082\n",
       "55      0.199105\n",
       "60      0.247082\n",
       "62      0.638452\n",
       "65      0.473540\n",
       "77      0.100184\n",
       "79      0.157270\n",
       "97      0.102364\n",
       "101     0.092544\n",
       "103     0.247082\n",
       "108     0.157270\n",
       "113     0.401418\n",
       "122     0.092544\n",
       "141     0.170627\n",
       "142     0.638452\n",
       "144     0.102364\n",
       "145     0.247082\n",
       "          ...   \n",
       "913     0.098059\n",
       "914     0.100184\n",
       "915     0.077132\n",
       "918     0.122151\n",
       "923     0.102364\n",
       "926     0.102364\n",
       "931     0.100184\n",
       "934     0.077132\n",
       "939     0.077132\n",
       "944     0.077132\n",
       "945     0.102364\n",
       "947     0.102364\n",
       "950     0.157270\n",
       "951     0.102364\n",
       "953     0.077132\n",
       "959     0.077132\n",
       "962     0.077132\n",
       "963     0.192793\n",
       "968     0.102364\n",
       "969     0.102364\n",
       "974     0.102364\n",
       "984     0.077132\n",
       "987     0.102364\n",
       "989     0.102364\n",
       "991     0.102364\n",
       "992     0.077132\n",
       "994     0.077132\n",
       "996     0.077132\n",
       "1000    0.102364\n",
       "1001    0.102364\n",
       "Length: 252, dtype: float64"
      ]
     },
     "execution_count": 104,
     "metadata": {},
     "output_type": "execute_result"
    }
   ],
   "source": [
    "def salary_predictions():\n",
    "    from sklearn.ensemble import GradientBoostingClassifier\n",
    "    from sklearn.ensemble import RandomForestClassifier\n",
    "    from sklearn.preprocessing import MinMaxScaler\n",
    "    from sklearn.metrics import roc_curve, auc\n",
    "    \n",
    "    # Convert network G into pandas dataframe\n",
    "    df = pd.DataFrame(index=G.nodes())\n",
    "    # Convert network node attributes into features\n",
    "    df['Department'] = pd.Series(nx.get_node_attributes(G, 'Department'))\n",
    "    df['ManagementSalary'] = pd.Series(nx.get_node_attributes(G, 'ManagementSalary'))\n",
    "    df['clustering'] = pd.Series(nx.clustering(G))\n",
    "    df['degree'] = pd.Series(G.degree())\n",
    "    \n",
    "    feature= ['Department', 'clustering', 'degree']\n",
    "    \n",
    "    # Split data to train / test based on null values in management salary column\n",
    "    # Train classifier on training set enables label predictions on the testing set\n",
    "    X_test = df[df['ManagementSalary'].isnull()][feature]\n",
    "    X_test = pd.DataFrame(X_test)\n",
    "    X_train = df[~df['ManagementSalary'].isnull()][feature]\n",
    "    X_train = pd.DataFrame(X_train)\n",
    "    y_test = df[df['ManagementSalary'].isnull()]['ManagementSalary']\n",
    "    y_train = df[~df['ManagementSalary'].isnull()]['ManagementSalary']\n",
    "    \n",
    "    # Use gradient Boosting classifier to train training set\n",
    "    scaler = MinMaxScaler()\n",
    "    X_train_scaled = scaler.fit_transform(X_train)\n",
    "    X_test_scaled = scaler.transform(X_test)\n",
    "    clf = GradientBoostingClassifier(learning_rate = 0.01, max_depth = 2, random_state = 0).fit(X_train_scaled, y_train)\n",
    "    # Output probability of each employee receiving management salary\n",
    "    prediction = clf.predict_proba(X_test_scaled)\n",
    "    result = pd.DataFrame(index=X_test.index, data = prediction)\n",
    "    result = result.iloc[:, -1]\n",
    "    result.name = None\n",
    "\n",
    "    return result\n",
    "salary_predictions()"
   ]
  },
  {
   "cell_type": "markdown",
   "metadata": {},
   "source": [
    "### New Connections Prediction\n",
    "\n",
    "Predict future connections between employees of the network. The future connections information is included in the variable `future_connections`. The index is a tuple indicating a pair of nodes that currently do not have a connection, and the `Future Connection` column indicates if an edge between those two nodes will exist in the future, where a value of 1.0 indicates a future connection."
   ]
  },
  {
   "cell_type": "code",
   "execution_count": 102,
   "metadata": {},
   "outputs": [
    {
     "data": {
      "text/html": [
       "<div>\n",
       "<style>\n",
       "    .dataframe thead tr:only-child th {\n",
       "        text-align: right;\n",
       "    }\n",
       "\n",
       "    .dataframe thead th {\n",
       "        text-align: left;\n",
       "    }\n",
       "\n",
       "    .dataframe tbody tr th {\n",
       "        vertical-align: top;\n",
       "    }\n",
       "</style>\n",
       "<table border=\"1\" class=\"dataframe\">\n",
       "  <thead>\n",
       "    <tr style=\"text-align: right;\">\n",
       "      <th></th>\n",
       "      <th>Future Connection</th>\n",
       "    </tr>\n",
       "  </thead>\n",
       "  <tbody>\n",
       "    <tr>\n",
       "      <th>(6, 840)</th>\n",
       "      <td>0.0</td>\n",
       "    </tr>\n",
       "    <tr>\n",
       "      <th>(4, 197)</th>\n",
       "      <td>0.0</td>\n",
       "    </tr>\n",
       "    <tr>\n",
       "      <th>(620, 979)</th>\n",
       "      <td>0.0</td>\n",
       "    </tr>\n",
       "    <tr>\n",
       "      <th>(519, 872)</th>\n",
       "      <td>0.0</td>\n",
       "    </tr>\n",
       "    <tr>\n",
       "      <th>(382, 423)</th>\n",
       "      <td>0.0</td>\n",
       "    </tr>\n",
       "    <tr>\n",
       "      <th>(97, 226)</th>\n",
       "      <td>1.0</td>\n",
       "    </tr>\n",
       "    <tr>\n",
       "      <th>(349, 905)</th>\n",
       "      <td>0.0</td>\n",
       "    </tr>\n",
       "    <tr>\n",
       "      <th>(429, 860)</th>\n",
       "      <td>0.0</td>\n",
       "    </tr>\n",
       "    <tr>\n",
       "      <th>(309, 989)</th>\n",
       "      <td>0.0</td>\n",
       "    </tr>\n",
       "    <tr>\n",
       "      <th>(468, 880)</th>\n",
       "      <td>0.0</td>\n",
       "    </tr>\n",
       "  </tbody>\n",
       "</table>\n",
       "</div>"
      ],
      "text/plain": [
       "            Future Connection\n",
       "(6, 840)                  0.0\n",
       "(4, 197)                  0.0\n",
       "(620, 979)                0.0\n",
       "(519, 872)                0.0\n",
       "(382, 423)                0.0\n",
       "(97, 226)                 1.0\n",
       "(349, 905)                0.0\n",
       "(429, 860)                0.0\n",
       "(309, 989)                0.0\n",
       "(468, 880)                0.0"
      ]
     },
     "execution_count": 102,
     "metadata": {},
     "output_type": "execute_result"
    }
   ],
   "source": [
    "# Read data into pandas dataframe\n",
    "future_connections = pd.read_csv('Future_Connections.csv', index_col=0, converters={0: eval})\n",
    "future_connections.head(10)"
   ]
  },
  {
   "cell_type": "markdown",
   "metadata": {},
   "source": [
    "Using network `G` and `future_connections`, identify the edges in `future_connections` with missing values and predict whether or not these edges will have a future connection.\n"
   ]
  },
  {
   "cell_type": "code",
   "execution_count": 121,
   "metadata": {},
   "outputs": [],
   "source": [
    "def new_connections_predictions():\n",
    "    from sklearn.ensemble import GradientBoostingClassifier\n",
    "    from sklearn.ensemble import RandomForestClassifier\n",
    "    from sklearn.preprocessing import MinMaxScaler\n",
    "    from sklearn.metrics import roc_curve, auc\n",
    "    \n",
    "    # Use preferential attachment to predict probability of future connections between each employee pair\n",
    "    df = pd.DataFrame(index=future_connections.index, data=future_connections['Future Connection'])\n",
    "    df['prefered'] = [i[2] for i in nx.preferential_attachment(G, df.index)]\n",
    "    \n",
    "    # Find number of common neighbors between each employee pair in network G\n",
    "    df['Common'] = df.index.map(lambda x: len(list(nx.common_neighbors(G, x[0], x[1]))))\n",
    "    \n",
    "    feature= ['prefered', 'Common']\n",
    "    \n",
    "    # Split data to train / test based on null values in future connection column\n",
    "    X_test = df[df['Future Connection'].isnull()][feature]\n",
    "    X_test = pd.DataFrame(X_test)\n",
    "    X_train = df[~df['Future Connection'].isnull()][feature]\n",
    "    X_train = pd.DataFrame(X_train)\n",
    "    y_test = df[df['Future Connection'].isnull()]['Future Connection']\n",
    "    y_train = df[~df['Future Connection'].isnull()]['Future Connection']\n",
    "    \n",
    "    # Use gradient Boosting classifier to train training set\n",
    "    scaler = MinMaxScaler()\n",
    "    X_train_scaled = scaler.fit_transform(X_train)\n",
    "    X_test_scaled = scaler.transform(X_test)\n",
    "    clf = GradientBoostingClassifier(learning_rate = 0.01, max_depth = 2, random_state = 0).fit(X_train_scaled, y_train)\n",
    "    \n",
    "    # Output probability of future connections between each employee pair\n",
    "    prediction = clf.predict_proba(X_test_scaled)\n",
    "    result = pd.DataFrame(index=X_test.index, data = prediction)\n",
    "    result = result.iloc[:, -1]\n",
    "    result.name = None\n",
    "    \n",
    "    return result"
   ]
  },
  {
   "cell_type": "code",
   "execution_count": null,
   "metadata": {
    "collapsed": true
   },
   "outputs": [],
   "source": []
  }
 ],
 "metadata": {
  "coursera": {
   "course_slug": "python-social-network-analysis",
   "graded_item_id": "BGNwe",
   "launcher_item_id": "rMoj0",
   "part_id": "E2zRG"
  },
  "kernelspec": {
   "display_name": "Python 3",
   "language": "python",
   "name": "python3"
  },
  "language_info": {
   "codemirror_mode": {
    "name": "ipython",
    "version": 3
   },
   "file_extension": ".py",
   "mimetype": "text/x-python",
   "name": "python",
   "nbconvert_exporter": "python",
   "pygments_lexer": "ipython3",
   "version": "3.6.6"
  }
 },
 "nbformat": 4,
 "nbformat_minor": 2
}
